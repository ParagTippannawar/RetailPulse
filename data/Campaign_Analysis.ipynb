{
 "cells": [
  {
   "cell_type": "code",
   "execution_count": 1,
   "id": "cac1295b",
   "metadata": {},
   "outputs": [],
   "source": [
    "import pandas as pd\n",
    "\n",
    "def analyze_campaign_effectiveness(sales_data, campaign_start, campaign_end, comparison_range_days=30):\n",
    "    \"\"\"\n",
    "    Analyzes sales before and after a campaign within a specified range of days.\n",
    "\n",
    "    Parameters:\n",
    "    - sales_data: DataFrame containing sales data with 'Order Date' and 'Sales' columns.\n",
    "    - campaign_start: Start date of the campaign (datetime format).\n",
    "    - campaign_end: End date of the campaign (datetime format).\n",
    "    - comparison_range_days: Number of days to consider before and after the campaign.\n",
    "\n",
    "    Returns:\n",
    "    A dictionary with before and after sales totals and effectiveness.\n",
    "    \"\"\"\n",
    "    # Define comparison ranges\n",
    "    before_start = campaign_start - pd.Timedelta(days=comparison_range_days)\n",
    "    before_end = campaign_start - pd.Timedelta(days=1)\n",
    "    after_start = campaign_end + pd.Timedelta(days=1)\n",
    "    after_end = campaign_end + pd.Timedelta(days=comparison_range_days)\n",
    "    \n",
    "    # Filter sales data\n",
    "    before_campaign = sales_data[(sales_data['Order Date'] >= before_start) & (sales_data['Order Date'] <= before_end)]\n",
    "    after_campaign = sales_data[(sales_data['Order Date'] >= after_start) & (sales_data['Order Date'] <= after_end)]\n",
    "    \n",
    "    # Calculate sales totals\n",
    "    before_sales = before_campaign['Sales'].sum()\n",
    "    after_sales = after_campaign['Sales'].sum()\n",
    "    \n",
    "    return {\n",
    "        'Before Sales': before_sales,\n",
    "        'After Sales': after_sales,\n",
    "        'Effectiveness': after_sales - before_sales\n",
    "    }"
   ]
  },
  {
   "cell_type": "code",
   "execution_count": null,
   "id": "9ec077fe",
   "metadata": {},
   "outputs": [],
   "source": []
  }
 ],
 "metadata": {
  "kernelspec": {
   "display_name": "Python 3 (ipykernel)",
   "language": "python",
   "name": "python3"
  },
  "language_info": {
   "codemirror_mode": {
    "name": "ipython",
    "version": 3
   },
   "file_extension": ".py",
   "mimetype": "text/x-python",
   "name": "python",
   "nbconvert_exporter": "python",
   "pygments_lexer": "ipython3",
   "version": "3.11.1"
  }
 },
 "nbformat": 4,
 "nbformat_minor": 5
}
